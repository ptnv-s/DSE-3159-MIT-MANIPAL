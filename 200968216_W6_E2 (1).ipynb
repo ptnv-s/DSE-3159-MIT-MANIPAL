{
  "cells": [
    {
      "cell_type": "markdown",
      "source": [
        "# Deep Learning Lab Week 6\n",
        "## Exercise 2\n",
        "## Pratinav Seth\n",
        "## 200968216"
      ],
      "metadata": {
        "id": "KuqD0_jyMLyO"
      },
      "id": "KuqD0_jyMLyO"
    },
    {
      "cell_type": "markdown",
      "source": [
        "EXERCISE 2:\n",
        "\n",
        "Use the google stock price dataset available in Kaggle.\n",
        "https://www.kaggle.com/datasets/medharawat/google-stock-price\n",
        "Using a training set of 50 time steps, build a Simple RNN model vs a LSTM model, both with 4 layers. Compare their accuracy using an mean square error. "
      ],
      "metadata": {
        "id": "yHqNbcRTvrpU"
      },
      "id": "yHqNbcRTvrpU"
    },
    {
      "cell_type": "code",
      "execution_count": 5,
      "id": "d66f8f18",
      "metadata": {
        "_cell_guid": "b1076dfc-b9ad-4769-8c92-a6c4dae69d19",
        "_uuid": "8f2839f25d086af736a60e9eeb907d3b93b6e0e5",
        "execution": {
          "iopub.execute_input": "2022-09-08T14:47:55.602459Z",
          "iopub.status.busy": "2022-09-08T14:47:55.601789Z",
          "iopub.status.idle": "2022-09-08T14:47:56.634153Z",
          "shell.execute_reply": "2022-09-08T14:47:56.631771Z"
        },
        "papermill": {
          "duration": 1.043718,
          "end_time": "2022-09-08T14:47:56.636636",
          "exception": false,
          "start_time": "2022-09-08T14:47:55.592918",
          "status": "completed"
        },
        "tags": [],
        "id": "d66f8f18"
      },
      "outputs": [],
      "source": [
        "import numpy as np\n",
        "import pandas as pd\n",
        "import matplotlib.pyplot as plt\n",
        "import seaborn as sns\n",
        "import os\n",
        "import math\n",
        "from keras.models import Sequential\n",
        "from keras.layers import Dense, LSTM\n",
        "from sklearn.preprocessing import MinMaxScaler\n",
        "from sklearn.metrics import mean_squared_error\n",
        "from zipfile import ZipFile\n",
        "from sklearn.preprocessing import MinMaxScaler\n",
        "from keras.models import Sequential\n",
        "from keras.layers import Dense, SimpleRNN, Dropout"
      ]
    },
    {
      "cell_type": "code",
      "source": [
        "!pip install kaggle"
      ],
      "metadata": {
        "colab": {
          "base_uri": "https://localhost:8080/"
        },
        "id": "0_TtRc05KbdB",
        "outputId": "b8f4da42-e9e9-4e6a-d521-2ada33e67279"
      },
      "id": "0_TtRc05KbdB",
      "execution_count": 6,
      "outputs": [
        {
          "output_type": "stream",
          "name": "stdout",
          "text": [
            "Looking in indexes: https://pypi.org/simple, https://us-python.pkg.dev/colab-wheels/public/simple/\n",
            "Requirement already satisfied: kaggle in /usr/local/lib/python3.7/dist-packages (1.5.12)\n",
            "Requirement already satisfied: certifi in /usr/local/lib/python3.7/dist-packages (from kaggle) (2022.6.15)\n",
            "Requirement already satisfied: python-slugify in /usr/local/lib/python3.7/dist-packages (from kaggle) (6.1.2)\n",
            "Requirement already satisfied: python-dateutil in /usr/local/lib/python3.7/dist-packages (from kaggle) (2.8.2)\n",
            "Requirement already satisfied: requests in /usr/local/lib/python3.7/dist-packages (from kaggle) (2.23.0)\n",
            "Requirement already satisfied: tqdm in /usr/local/lib/python3.7/dist-packages (from kaggle) (4.64.1)\n",
            "Requirement already satisfied: six>=1.10 in /usr/local/lib/python3.7/dist-packages (from kaggle) (1.15.0)\n",
            "Requirement already satisfied: urllib3 in /usr/local/lib/python3.7/dist-packages (from kaggle) (1.24.3)\n",
            "Requirement already satisfied: text-unidecode>=1.3 in /usr/local/lib/python3.7/dist-packages (from python-slugify->kaggle) (1.3)\n",
            "Requirement already satisfied: idna<3,>=2.5 in /usr/local/lib/python3.7/dist-packages (from requests->kaggle) (2.10)\n",
            "Requirement already satisfied: chardet<4,>=3.0.2 in /usr/local/lib/python3.7/dist-packages (from requests->kaggle) (3.0.4)\n"
          ]
        }
      ]
    },
    {
      "cell_type": "code",
      "source": [
        "!mkdir ~/.kaggle\n",
        "!cp /content/kaggle.json ~/.kaggle/kaggle.json\n",
        "!chmod 600 ~/.kaggle/kaggle.json\n",
        "!kaggle datasets download -d medharawat/google-stock-price"
      ],
      "metadata": {
        "id": "fGluiVAHL-Xh",
        "colab": {
          "base_uri": "https://localhost:8080/"
        },
        "outputId": "08f998fb-1ad6-4d94-c195-d51c3489a57a"
      },
      "id": "fGluiVAHL-Xh",
      "execution_count": 7,
      "outputs": [
        {
          "output_type": "stream",
          "name": "stdout",
          "text": [
            "mkdir: cannot create directory ‘/root/.kaggle’: File exists\n",
            "Downloading google-stock-price.zip to /content\n",
            "  0% 0.00/23.4k [00:00<?, ?B/s]\n",
            "100% 23.4k/23.4k [00:00<00:00, 32.5MB/s]\n"
          ]
        }
      ]
    },
    {
      "cell_type": "code",
      "source": [
        "file_name = \"/content/google-stock-price.zip\"\n",
        "\n",
        "with ZipFile(file_name, 'r') as zip:\n",
        "    zip.printdir()\n",
        "    print('Extracting all the files now...')\n",
        "    zip.extractall()\n",
        "    print('Done!')"
      ],
      "metadata": {
        "colab": {
          "base_uri": "https://localhost:8080/"
        },
        "id": "suvIqqZSMkmC",
        "outputId": "e11398e4-dbda-4a80-e25c-2a8cc1f33de5"
      },
      "id": "suvIqqZSMkmC",
      "execution_count": 8,
      "outputs": [
        {
          "output_type": "stream",
          "name": "stdout",
          "text": [
            "File Name                                             Modified             Size\n",
            "Google_Stock_Price_Test.csv                    2019-09-29 07:21:16         1029\n",
            "Google_Stock_Price_Train.csv                   2019-09-29 07:21:16        63488\n",
            "Extracting all the files now...\n",
            "Done!\n"
          ]
        }
      ]
    },
    {
      "cell_type": "code",
      "execution_count": 9,
      "id": "25eac9b2",
      "metadata": {
        "execution": {
          "iopub.execute_input": "2022-09-08T14:47:56.684861Z",
          "iopub.status.busy": "2022-09-08T14:47:56.684243Z",
          "iopub.status.idle": "2022-09-08T14:47:56.720047Z",
          "shell.execute_reply": "2022-09-08T14:47:56.719433Z"
        },
        "papermill": {
          "duration": 0.046766,
          "end_time": "2022-09-08T14:47:56.721914",
          "exception": false,
          "start_time": "2022-09-08T14:47:56.675148",
          "status": "completed"
        },
        "tags": [],
        "colab": {
          "base_uri": "https://localhost:8080/",
          "height": 206
        },
        "id": "25eac9b2",
        "outputId": "30c702d6-8172-4d7f-b677-272f8b40df87"
      },
      "outputs": [
        {
          "output_type": "execute_result",
          "data": {
            "text/plain": [
              "       Date    Open    High     Low   Close      Volume\n",
              "0  1/3/2012  325.25  332.83  324.97  663.59   7,380,500\n",
              "1  1/4/2012  331.27  333.87  329.08  666.45   5,749,400\n",
              "2  1/5/2012  329.83  330.75  326.89  657.21   6,590,300\n",
              "3  1/6/2012  328.34  328.77  323.68  648.24   5,405,900\n",
              "4  1/9/2012  322.04  322.29  309.46  620.76  11,688,800"
            ],
            "text/html": [
              "\n",
              "  <div id=\"df-0b6a8ec9-9523-4d5e-a3e5-638966afdc32\">\n",
              "    <div class=\"colab-df-container\">\n",
              "      <div>\n",
              "<style scoped>\n",
              "    .dataframe tbody tr th:only-of-type {\n",
              "        vertical-align: middle;\n",
              "    }\n",
              "\n",
              "    .dataframe tbody tr th {\n",
              "        vertical-align: top;\n",
              "    }\n",
              "\n",
              "    .dataframe thead th {\n",
              "        text-align: right;\n",
              "    }\n",
              "</style>\n",
              "<table border=\"1\" class=\"dataframe\">\n",
              "  <thead>\n",
              "    <tr style=\"text-align: right;\">\n",
              "      <th></th>\n",
              "      <th>Date</th>\n",
              "      <th>Open</th>\n",
              "      <th>High</th>\n",
              "      <th>Low</th>\n",
              "      <th>Close</th>\n",
              "      <th>Volume</th>\n",
              "    </tr>\n",
              "  </thead>\n",
              "  <tbody>\n",
              "    <tr>\n",
              "      <th>0</th>\n",
              "      <td>1/3/2012</td>\n",
              "      <td>325.25</td>\n",
              "      <td>332.83</td>\n",
              "      <td>324.97</td>\n",
              "      <td>663.59</td>\n",
              "      <td>7,380,500</td>\n",
              "    </tr>\n",
              "    <tr>\n",
              "      <th>1</th>\n",
              "      <td>1/4/2012</td>\n",
              "      <td>331.27</td>\n",
              "      <td>333.87</td>\n",
              "      <td>329.08</td>\n",
              "      <td>666.45</td>\n",
              "      <td>5,749,400</td>\n",
              "    </tr>\n",
              "    <tr>\n",
              "      <th>2</th>\n",
              "      <td>1/5/2012</td>\n",
              "      <td>329.83</td>\n",
              "      <td>330.75</td>\n",
              "      <td>326.89</td>\n",
              "      <td>657.21</td>\n",
              "      <td>6,590,300</td>\n",
              "    </tr>\n",
              "    <tr>\n",
              "      <th>3</th>\n",
              "      <td>1/6/2012</td>\n",
              "      <td>328.34</td>\n",
              "      <td>328.77</td>\n",
              "      <td>323.68</td>\n",
              "      <td>648.24</td>\n",
              "      <td>5,405,900</td>\n",
              "    </tr>\n",
              "    <tr>\n",
              "      <th>4</th>\n",
              "      <td>1/9/2012</td>\n",
              "      <td>322.04</td>\n",
              "      <td>322.29</td>\n",
              "      <td>309.46</td>\n",
              "      <td>620.76</td>\n",
              "      <td>11,688,800</td>\n",
              "    </tr>\n",
              "  </tbody>\n",
              "</table>\n",
              "</div>\n",
              "      <button class=\"colab-df-convert\" onclick=\"convertToInteractive('df-0b6a8ec9-9523-4d5e-a3e5-638966afdc32')\"\n",
              "              title=\"Convert this dataframe to an interactive table.\"\n",
              "              style=\"display:none;\">\n",
              "        \n",
              "  <svg xmlns=\"http://www.w3.org/2000/svg\" height=\"24px\"viewBox=\"0 0 24 24\"\n",
              "       width=\"24px\">\n",
              "    <path d=\"M0 0h24v24H0V0z\" fill=\"none\"/>\n",
              "    <path d=\"M18.56 5.44l.94 2.06.94-2.06 2.06-.94-2.06-.94-.94-2.06-.94 2.06-2.06.94zm-11 1L8.5 8.5l.94-2.06 2.06-.94-2.06-.94L8.5 2.5l-.94 2.06-2.06.94zm10 10l.94 2.06.94-2.06 2.06-.94-2.06-.94-.94-2.06-.94 2.06-2.06.94z\"/><path d=\"M17.41 7.96l-1.37-1.37c-.4-.4-.92-.59-1.43-.59-.52 0-1.04.2-1.43.59L10.3 9.45l-7.72 7.72c-.78.78-.78 2.05 0 2.83L4 21.41c.39.39.9.59 1.41.59.51 0 1.02-.2 1.41-.59l7.78-7.78 2.81-2.81c.8-.78.8-2.07 0-2.86zM5.41 20L4 18.59l7.72-7.72 1.47 1.35L5.41 20z\"/>\n",
              "  </svg>\n",
              "      </button>\n",
              "      \n",
              "  <style>\n",
              "    .colab-df-container {\n",
              "      display:flex;\n",
              "      flex-wrap:wrap;\n",
              "      gap: 12px;\n",
              "    }\n",
              "\n",
              "    .colab-df-convert {\n",
              "      background-color: #E8F0FE;\n",
              "      border: none;\n",
              "      border-radius: 50%;\n",
              "      cursor: pointer;\n",
              "      display: none;\n",
              "      fill: #1967D2;\n",
              "      height: 32px;\n",
              "      padding: 0 0 0 0;\n",
              "      width: 32px;\n",
              "    }\n",
              "\n",
              "    .colab-df-convert:hover {\n",
              "      background-color: #E2EBFA;\n",
              "      box-shadow: 0px 1px 2px rgba(60, 64, 67, 0.3), 0px 1px 3px 1px rgba(60, 64, 67, 0.15);\n",
              "      fill: #174EA6;\n",
              "    }\n",
              "\n",
              "    [theme=dark] .colab-df-convert {\n",
              "      background-color: #3B4455;\n",
              "      fill: #D2E3FC;\n",
              "    }\n",
              "\n",
              "    [theme=dark] .colab-df-convert:hover {\n",
              "      background-color: #434B5C;\n",
              "      box-shadow: 0px 1px 3px 1px rgba(0, 0, 0, 0.15);\n",
              "      filter: drop-shadow(0px 1px 2px rgba(0, 0, 0, 0.3));\n",
              "      fill: #FFFFFF;\n",
              "    }\n",
              "  </style>\n",
              "\n",
              "      <script>\n",
              "        const buttonEl =\n",
              "          document.querySelector('#df-0b6a8ec9-9523-4d5e-a3e5-638966afdc32 button.colab-df-convert');\n",
              "        buttonEl.style.display =\n",
              "          google.colab.kernel.accessAllowed ? 'block' : 'none';\n",
              "\n",
              "        async function convertToInteractive(key) {\n",
              "          const element = document.querySelector('#df-0b6a8ec9-9523-4d5e-a3e5-638966afdc32');\n",
              "          const dataTable =\n",
              "            await google.colab.kernel.invokeFunction('convertToInteractive',\n",
              "                                                     [key], {});\n",
              "          if (!dataTable) return;\n",
              "\n",
              "          const docLinkHtml = 'Like what you see? Visit the ' +\n",
              "            '<a target=\"_blank\" href=https://colab.research.google.com/notebooks/data_table.ipynb>data table notebook</a>'\n",
              "            + ' to learn more about interactive tables.';\n",
              "          element.innerHTML = '';\n",
              "          dataTable['output_type'] = 'display_data';\n",
              "          await google.colab.output.renderOutput(dataTable, element);\n",
              "          const docLink = document.createElement('div');\n",
              "          docLink.innerHTML = docLinkHtml;\n",
              "          element.appendChild(docLink);\n",
              "        }\n",
              "      </script>\n",
              "    </div>\n",
              "  </div>\n",
              "  "
            ]
          },
          "metadata": {},
          "execution_count": 9
        }
      ],
      "source": [
        "data = pd.read_csv(\"/content/Google_Stock_Price_Train.csv\")\n",
        "data.head()"
      ]
    },
    {
      "cell_type": "markdown",
      "source": [
        "Since the test set contains the values of 2017, we will be using test set for the second question of the exercise."
      ],
      "metadata": {
        "id": "MufY0xI1v-hE"
      },
      "id": "MufY0xI1v-hE"
    },
    {
      "cell_type": "code",
      "source": [
        "test_data = pd.read_csv(\"/content/Google_Stock_Price_Test.csv\")\n",
        "test_data.head()"
      ],
      "metadata": {
        "colab": {
          "base_uri": "https://localhost:8080/",
          "height": 206
        },
        "id": "kvzZ0qU2WyIa",
        "outputId": "e67a0742-a496-4f1d-be6e-ba13d4282774"
      },
      "id": "kvzZ0qU2WyIa",
      "execution_count": 10,
      "outputs": [
        {
          "output_type": "execute_result",
          "data": {
            "text/plain": [
              "       Date    Open    High     Low   Close     Volume\n",
              "0  1/3/2017  778.81  789.63  775.80  786.14  1,657,300\n",
              "1  1/4/2017  788.36  791.34  783.16  786.90  1,073,000\n",
              "2  1/5/2017  786.08  794.48  785.02  794.02  1,335,200\n",
              "3  1/6/2017  795.26  807.90  792.20  806.15  1,640,200\n",
              "4  1/9/2017  806.40  809.97  802.83  806.65  1,272,400"
            ],
            "text/html": [
              "\n",
              "  <div id=\"df-d037ae04-7b97-4aef-9a06-39d4b4723694\">\n",
              "    <div class=\"colab-df-container\">\n",
              "      <div>\n",
              "<style scoped>\n",
              "    .dataframe tbody tr th:only-of-type {\n",
              "        vertical-align: middle;\n",
              "    }\n",
              "\n",
              "    .dataframe tbody tr th {\n",
              "        vertical-align: top;\n",
              "    }\n",
              "\n",
              "    .dataframe thead th {\n",
              "        text-align: right;\n",
              "    }\n",
              "</style>\n",
              "<table border=\"1\" class=\"dataframe\">\n",
              "  <thead>\n",
              "    <tr style=\"text-align: right;\">\n",
              "      <th></th>\n",
              "      <th>Date</th>\n",
              "      <th>Open</th>\n",
              "      <th>High</th>\n",
              "      <th>Low</th>\n",
              "      <th>Close</th>\n",
              "      <th>Volume</th>\n",
              "    </tr>\n",
              "  </thead>\n",
              "  <tbody>\n",
              "    <tr>\n",
              "      <th>0</th>\n",
              "      <td>1/3/2017</td>\n",
              "      <td>778.81</td>\n",
              "      <td>789.63</td>\n",
              "      <td>775.80</td>\n",
              "      <td>786.14</td>\n",
              "      <td>1,657,300</td>\n",
              "    </tr>\n",
              "    <tr>\n",
              "      <th>1</th>\n",
              "      <td>1/4/2017</td>\n",
              "      <td>788.36</td>\n",
              "      <td>791.34</td>\n",
              "      <td>783.16</td>\n",
              "      <td>786.90</td>\n",
              "      <td>1,073,000</td>\n",
              "    </tr>\n",
              "    <tr>\n",
              "      <th>2</th>\n",
              "      <td>1/5/2017</td>\n",
              "      <td>786.08</td>\n",
              "      <td>794.48</td>\n",
              "      <td>785.02</td>\n",
              "      <td>794.02</td>\n",
              "      <td>1,335,200</td>\n",
              "    </tr>\n",
              "    <tr>\n",
              "      <th>3</th>\n",
              "      <td>1/6/2017</td>\n",
              "      <td>795.26</td>\n",
              "      <td>807.90</td>\n",
              "      <td>792.20</td>\n",
              "      <td>806.15</td>\n",
              "      <td>1,640,200</td>\n",
              "    </tr>\n",
              "    <tr>\n",
              "      <th>4</th>\n",
              "      <td>1/9/2017</td>\n",
              "      <td>806.40</td>\n",
              "      <td>809.97</td>\n",
              "      <td>802.83</td>\n",
              "      <td>806.65</td>\n",
              "      <td>1,272,400</td>\n",
              "    </tr>\n",
              "  </tbody>\n",
              "</table>\n",
              "</div>\n",
              "      <button class=\"colab-df-convert\" onclick=\"convertToInteractive('df-d037ae04-7b97-4aef-9a06-39d4b4723694')\"\n",
              "              title=\"Convert this dataframe to an interactive table.\"\n",
              "              style=\"display:none;\">\n",
              "        \n",
              "  <svg xmlns=\"http://www.w3.org/2000/svg\" height=\"24px\"viewBox=\"0 0 24 24\"\n",
              "       width=\"24px\">\n",
              "    <path d=\"M0 0h24v24H0V0z\" fill=\"none\"/>\n",
              "    <path d=\"M18.56 5.44l.94 2.06.94-2.06 2.06-.94-2.06-.94-.94-2.06-.94 2.06-2.06.94zm-11 1L8.5 8.5l.94-2.06 2.06-.94-2.06-.94L8.5 2.5l-.94 2.06-2.06.94zm10 10l.94 2.06.94-2.06 2.06-.94-2.06-.94-.94-2.06-.94 2.06-2.06.94z\"/><path d=\"M17.41 7.96l-1.37-1.37c-.4-.4-.92-.59-1.43-.59-.52 0-1.04.2-1.43.59L10.3 9.45l-7.72 7.72c-.78.78-.78 2.05 0 2.83L4 21.41c.39.39.9.59 1.41.59.51 0 1.02-.2 1.41-.59l7.78-7.78 2.81-2.81c.8-.78.8-2.07 0-2.86zM5.41 20L4 18.59l7.72-7.72 1.47 1.35L5.41 20z\"/>\n",
              "  </svg>\n",
              "      </button>\n",
              "      \n",
              "  <style>\n",
              "    .colab-df-container {\n",
              "      display:flex;\n",
              "      flex-wrap:wrap;\n",
              "      gap: 12px;\n",
              "    }\n",
              "\n",
              "    .colab-df-convert {\n",
              "      background-color: #E8F0FE;\n",
              "      border: none;\n",
              "      border-radius: 50%;\n",
              "      cursor: pointer;\n",
              "      display: none;\n",
              "      fill: #1967D2;\n",
              "      height: 32px;\n",
              "      padding: 0 0 0 0;\n",
              "      width: 32px;\n",
              "    }\n",
              "\n",
              "    .colab-df-convert:hover {\n",
              "      background-color: #E2EBFA;\n",
              "      box-shadow: 0px 1px 2px rgba(60, 64, 67, 0.3), 0px 1px 3px 1px rgba(60, 64, 67, 0.15);\n",
              "      fill: #174EA6;\n",
              "    }\n",
              "\n",
              "    [theme=dark] .colab-df-convert {\n",
              "      background-color: #3B4455;\n",
              "      fill: #D2E3FC;\n",
              "    }\n",
              "\n",
              "    [theme=dark] .colab-df-convert:hover {\n",
              "      background-color: #434B5C;\n",
              "      box-shadow: 0px 1px 3px 1px rgba(0, 0, 0, 0.15);\n",
              "      filter: drop-shadow(0px 1px 2px rgba(0, 0, 0, 0.3));\n",
              "      fill: #FFFFFF;\n",
              "    }\n",
              "  </style>\n",
              "\n",
              "      <script>\n",
              "        const buttonEl =\n",
              "          document.querySelector('#df-d037ae04-7b97-4aef-9a06-39d4b4723694 button.colab-df-convert');\n",
              "        buttonEl.style.display =\n",
              "          google.colab.kernel.accessAllowed ? 'block' : 'none';\n",
              "\n",
              "        async function convertToInteractive(key) {\n",
              "          const element = document.querySelector('#df-d037ae04-7b97-4aef-9a06-39d4b4723694');\n",
              "          const dataTable =\n",
              "            await google.colab.kernel.invokeFunction('convertToInteractive',\n",
              "                                                     [key], {});\n",
              "          if (!dataTable) return;\n",
              "\n",
              "          const docLinkHtml = 'Like what you see? Visit the ' +\n",
              "            '<a target=\"_blank\" href=https://colab.research.google.com/notebooks/data_table.ipynb>data table notebook</a>'\n",
              "            + ' to learn more about interactive tables.';\n",
              "          element.innerHTML = '';\n",
              "          dataTable['output_type'] = 'display_data';\n",
              "          await google.colab.output.renderOutput(dataTable, element);\n",
              "          const docLink = document.createElement('div');\n",
              "          docLink.innerHTML = docLinkHtml;\n",
              "          element.appendChild(docLink);\n",
              "        }\n",
              "      </script>\n",
              "    </div>\n",
              "  </div>\n",
              "  "
            ]
          },
          "metadata": {},
          "execution_count": 10
        }
      ]
    },
    {
      "cell_type": "code",
      "execution_count": 11,
      "id": "04dfba82",
      "metadata": {
        "execution": {
          "iopub.execute_input": "2022-09-08T14:47:57.169524Z",
          "iopub.status.busy": "2022-09-08T14:47:57.168936Z",
          "iopub.status.idle": "2022-09-08T14:47:57.176343Z",
          "shell.execute_reply": "2022-09-08T14:47:57.175243Z"
        },
        "papermill": {
          "duration": 0.02069,
          "end_time": "2022-09-08T14:47:57.178562",
          "exception": false,
          "start_time": "2022-09-08T14:47:57.157872",
          "status": "completed"
        },
        "tags": [],
        "id": "04dfba82",
        "colab": {
          "base_uri": "https://localhost:8080/"
        },
        "outputId": "2fc34306-b48e-4b1f-91df-eb7363d3e426"
      },
      "outputs": [
        {
          "output_type": "execute_result",
          "data": {
            "text/plain": [
              "array([[325.25],\n",
              "       [331.27],\n",
              "       [329.83],\n",
              "       ...,\n",
              "       [793.7 ],\n",
              "       [783.33],\n",
              "       [782.75]])"
            ]
          },
          "metadata": {},
          "execution_count": 11
        }
      ],
      "source": [
        "data_set = data.loc[:, [\"Open\"]].values\n",
        "train = data_set[:len(data_set)]\n",
        "train.reshape(train.shape[0],1)"
      ]
    },
    {
      "cell_type": "code",
      "source": [
        "test_data = test_data.loc[:, ['Open']].values"
      ],
      "metadata": {
        "id": "1-EdCAqGXT5h"
      },
      "id": "1-EdCAqGXT5h",
      "execution_count": 12,
      "outputs": []
    },
    {
      "cell_type": "code",
      "execution_count": 13,
      "id": "4e9d2ee2",
      "metadata": {
        "execution": {
          "iopub.execute_input": "2022-09-08T14:47:57.271593Z",
          "iopub.status.busy": "2022-09-08T14:47:57.271307Z",
          "iopub.status.idle": "2022-09-08T14:47:57.428879Z",
          "shell.execute_reply": "2022-09-08T14:47:57.428249Z"
        },
        "papermill": {
          "duration": 0.169658,
          "end_time": "2022-09-08T14:47:57.430793",
          "exception": false,
          "start_time": "2022-09-08T14:47:57.261135",
          "status": "completed"
        },
        "tags": [],
        "id": "4e9d2ee2"
      },
      "outputs": [],
      "source": [
        "scaler = MinMaxScaler(feature_range = (0,1))\n",
        "train_scaler = scaler.fit_transform(train)"
      ]
    },
    {
      "cell_type": "code",
      "execution_count": 14,
      "id": "e7c147b1",
      "metadata": {
        "execution": {
          "iopub.execute_input": "2022-09-08T14:47:57.628272Z",
          "iopub.status.busy": "2022-09-08T14:47:57.627919Z",
          "iopub.status.idle": "2022-09-08T14:47:57.636162Z",
          "shell.execute_reply": "2022-09-08T14:47:57.635078Z"
        },
        "papermill": {
          "duration": 0.020581,
          "end_time": "2022-09-08T14:47:57.638056",
          "exception": false,
          "start_time": "2022-09-08T14:47:57.617475",
          "status": "completed"
        },
        "tags": [],
        "id": "e7c147b1"
      },
      "outputs": [],
      "source": [
        "X_train = []\n",
        "Y_train = []\n",
        "timesteps = 50\n",
        "\n",
        "for i in range(timesteps, len(train_scaler)):\n",
        "    X_train.append(train_scaler[i - timesteps:i, 0])\n",
        "    Y_train.append(train_scaler[i,0])\n",
        "    \n",
        "X_train, Y_train = np.array(X_train), np.array(Y_train)\n",
        "\n",
        "X_train = np.reshape(X_train, (X_train.shape[0], X_train.shape[1], 1))"
      ]
    },
    {
      "cell_type": "code",
      "execution_count": 15,
      "id": "81e6f391",
      "metadata": {
        "execution": {
          "iopub.execute_input": "2022-09-08T14:47:57.659094Z",
          "iopub.status.busy": "2022-09-08T14:47:57.658603Z",
          "iopub.status.idle": "2022-09-08T14:47:57.664038Z",
          "shell.execute_reply": "2022-09-08T14:47:57.662559Z"
        },
        "papermill": {
          "duration": 0.018438,
          "end_time": "2022-09-08T14:47:57.665942",
          "exception": false,
          "start_time": "2022-09-08T14:47:57.647504",
          "status": "completed"
        },
        "tags": [],
        "id": "81e6f391",
        "colab": {
          "base_uri": "https://localhost:8080/"
        },
        "outputId": "42f0fbc6-bf33-4aca-d570-8b7471117e06"
      },
      "outputs": [
        {
          "output_type": "execute_result",
          "data": {
            "text/plain": [
              "(1208, 50, 1)"
            ]
          },
          "metadata": {},
          "execution_count": 15
        }
      ],
      "source": [
        "X_train.shape"
      ]
    },
    {
      "cell_type": "markdown",
      "source": [
        "### RNN"
      ],
      "metadata": {
        "id": "RHkxwG0vMetJ"
      },
      "id": "RHkxwG0vMetJ"
    },
    {
      "cell_type": "code",
      "execution_count": 16,
      "id": "45c41adf",
      "metadata": {
        "execution": {
          "iopub.execute_input": "2022-09-08T14:47:57.766395Z",
          "iopub.status.busy": "2022-09-08T14:47:57.765229Z",
          "iopub.status.idle": "2022-09-08T14:55:28.991405Z",
          "shell.execute_reply": "2022-09-08T14:55:28.990324Z"
        },
        "papermill": {
          "duration": 451.239085,
          "end_time": "2022-09-08T14:55:28.993181",
          "exception": false,
          "start_time": "2022-09-08T14:47:57.754096",
          "status": "completed"
        },
        "tags": [],
        "id": "45c41adf",
        "colab": {
          "base_uri": "https://localhost:8080/"
        },
        "outputId": "7824d8eb-fb75-4bcb-dde5-a72020f41e26"
      },
      "outputs": [
        {
          "output_type": "stream",
          "name": "stdout",
          "text": [
            "Epoch 1/100\n",
            "38/38 [==============================] - 4s 29ms/step - loss: 0.3328\n",
            "Epoch 2/100\n",
            "38/38 [==============================] - 1s 29ms/step - loss: 0.2081\n",
            "Epoch 3/100\n",
            "38/38 [==============================] - 2s 41ms/step - loss: 0.1335\n",
            "Epoch 4/100\n",
            "38/38 [==============================] - 2s 53ms/step - loss: 0.1086\n",
            "Epoch 5/100\n",
            "38/38 [==============================] - 2s 60ms/step - loss: 0.0865\n",
            "Epoch 6/100\n",
            "38/38 [==============================] - 2s 62ms/step - loss: 0.0700\n",
            "Epoch 7/100\n",
            "38/38 [==============================] - 2s 60ms/step - loss: 0.0577\n",
            "Epoch 8/100\n",
            "38/38 [==============================] - 2s 58ms/step - loss: 0.0551\n",
            "Epoch 9/100\n",
            "38/38 [==============================] - 2s 61ms/step - loss: 0.0392\n",
            "Epoch 10/100\n",
            "38/38 [==============================] - 2s 62ms/step - loss: 0.0358\n",
            "Epoch 11/100\n",
            "38/38 [==============================] - 1s 29ms/step - loss: 0.0320\n",
            "Epoch 12/100\n",
            "38/38 [==============================] - 1s 29ms/step - loss: 0.0283\n",
            "Epoch 13/100\n",
            "38/38 [==============================] - 1s 28ms/step - loss: 0.0281\n",
            "Epoch 14/100\n",
            "38/38 [==============================] - 1s 29ms/step - loss: 0.0207\n",
            "Epoch 15/100\n",
            "38/38 [==============================] - 1s 29ms/step - loss: 0.0196\n",
            "Epoch 16/100\n",
            "38/38 [==============================] - 1s 28ms/step - loss: 0.0194\n",
            "Epoch 17/100\n",
            "38/38 [==============================] - 1s 29ms/step - loss: 0.0154\n",
            "Epoch 18/100\n",
            "38/38 [==============================] - 1s 28ms/step - loss: 0.0143\n",
            "Epoch 19/100\n",
            "38/38 [==============================] - 1s 28ms/step - loss: 0.0128\n",
            "Epoch 20/100\n",
            "38/38 [==============================] - 1s 29ms/step - loss: 0.0131\n",
            "Epoch 21/100\n",
            "38/38 [==============================] - 1s 28ms/step - loss: 0.0119\n",
            "Epoch 22/100\n",
            "38/38 [==============================] - 1s 29ms/step - loss: 0.0111\n",
            "Epoch 23/100\n",
            "38/38 [==============================] - 1s 29ms/step - loss: 0.0104\n",
            "Epoch 24/100\n",
            "38/38 [==============================] - 1s 29ms/step - loss: 0.0095\n",
            "Epoch 25/100\n",
            "38/38 [==============================] - 1s 29ms/step - loss: 0.0095\n",
            "Epoch 26/100\n",
            "38/38 [==============================] - 1s 29ms/step - loss: 0.0084\n",
            "Epoch 27/100\n",
            "38/38 [==============================] - 1s 29ms/step - loss: 0.0079\n",
            "Epoch 28/100\n",
            "38/38 [==============================] - 1s 28ms/step - loss: 0.0075\n",
            "Epoch 29/100\n",
            "38/38 [==============================] - 1s 28ms/step - loss: 0.0078\n",
            "Epoch 30/100\n",
            "38/38 [==============================] - 1s 29ms/step - loss: 0.0070\n",
            "Epoch 31/100\n",
            "38/38 [==============================] - 1s 29ms/step - loss: 0.0075\n",
            "Epoch 32/100\n",
            "38/38 [==============================] - 1s 28ms/step - loss: 0.0060\n",
            "Epoch 33/100\n",
            "38/38 [==============================] - 1s 29ms/step - loss: 0.0060\n",
            "Epoch 34/100\n",
            "38/38 [==============================] - 1s 29ms/step - loss: 0.0055\n",
            "Epoch 35/100\n",
            "38/38 [==============================] - 1s 28ms/step - loss: 0.0056\n",
            "Epoch 36/100\n",
            "38/38 [==============================] - 1s 29ms/step - loss: 0.0053\n",
            "Epoch 37/100\n",
            "38/38 [==============================] - 1s 29ms/step - loss: 0.0050\n",
            "Epoch 38/100\n",
            "38/38 [==============================] - 1s 29ms/step - loss: 0.0049\n",
            "Epoch 39/100\n",
            "38/38 [==============================] - 1s 28ms/step - loss: 0.0054\n",
            "Epoch 40/100\n",
            "38/38 [==============================] - 1s 28ms/step - loss: 0.0051\n",
            "Epoch 41/100\n",
            "38/38 [==============================] - 1s 27ms/step - loss: 0.0045\n",
            "Epoch 42/100\n",
            "38/38 [==============================] - 1s 35ms/step - loss: 0.0039\n",
            "Epoch 43/100\n",
            "38/38 [==============================] - 1s 29ms/step - loss: 0.0041\n",
            "Epoch 44/100\n",
            "38/38 [==============================] - 1s 37ms/step - loss: 0.0044\n",
            "Epoch 45/100\n",
            "38/38 [==============================] - 2s 62ms/step - loss: 0.0038\n",
            "Epoch 46/100\n",
            "38/38 [==============================] - 2s 57ms/step - loss: 0.0045\n",
            "Epoch 47/100\n",
            "38/38 [==============================] - 2s 62ms/step - loss: 0.0035\n",
            "Epoch 48/100\n",
            "38/38 [==============================] - 2s 43ms/step - loss: 0.0036\n",
            "Epoch 49/100\n",
            "38/38 [==============================] - 1s 29ms/step - loss: 0.0037\n",
            "Epoch 50/100\n",
            "38/38 [==============================] - 1s 28ms/step - loss: 0.0029\n",
            "Epoch 51/100\n",
            "38/38 [==============================] - 2s 47ms/step - loss: 0.0031\n",
            "Epoch 52/100\n",
            "38/38 [==============================] - 2s 43ms/step - loss: 0.0033\n",
            "Epoch 53/100\n",
            "38/38 [==============================] - 1s 29ms/step - loss: 0.0033\n",
            "Epoch 54/100\n",
            "38/38 [==============================] - 1s 29ms/step - loss: 0.0033\n",
            "Epoch 55/100\n",
            "38/38 [==============================] - 1s 29ms/step - loss: 0.0034\n",
            "Epoch 56/100\n",
            "38/38 [==============================] - 1s 28ms/step - loss: 0.0031\n",
            "Epoch 57/100\n",
            "38/38 [==============================] - 1s 29ms/step - loss: 0.0030\n",
            "Epoch 58/100\n",
            "38/38 [==============================] - 1s 29ms/step - loss: 0.0028\n",
            "Epoch 59/100\n",
            "38/38 [==============================] - 1s 29ms/step - loss: 0.0031\n",
            "Epoch 60/100\n",
            "38/38 [==============================] - 1s 31ms/step - loss: 0.0034\n",
            "Epoch 61/100\n",
            "38/38 [==============================] - 1s 29ms/step - loss: 0.0030\n",
            "Epoch 62/100\n",
            "38/38 [==============================] - 1s 29ms/step - loss: 0.0027\n",
            "Epoch 63/100\n",
            "38/38 [==============================] - 1s 29ms/step - loss: 0.0024\n",
            "Epoch 64/100\n",
            "38/38 [==============================] - 1s 29ms/step - loss: 0.0026\n",
            "Epoch 65/100\n",
            "38/38 [==============================] - 1s 29ms/step - loss: 0.0030\n",
            "Epoch 66/100\n",
            "38/38 [==============================] - 1s 29ms/step - loss: 0.0025\n",
            "Epoch 67/100\n",
            "38/38 [==============================] - 1s 29ms/step - loss: 0.0025\n",
            "Epoch 68/100\n",
            "38/38 [==============================] - 1s 29ms/step - loss: 0.0028\n",
            "Epoch 69/100\n",
            "38/38 [==============================] - 1s 28ms/step - loss: 0.0027\n",
            "Epoch 70/100\n",
            "38/38 [==============================] - 1s 28ms/step - loss: 0.0026\n",
            "Epoch 71/100\n",
            "38/38 [==============================] - 1s 29ms/step - loss: 0.0029\n",
            "Epoch 72/100\n",
            "38/38 [==============================] - 1s 29ms/step - loss: 0.0025\n",
            "Epoch 73/100\n",
            "38/38 [==============================] - 1s 29ms/step - loss: 0.0023\n",
            "Epoch 74/100\n",
            "38/38 [==============================] - 1s 28ms/step - loss: 0.0022\n",
            "Epoch 75/100\n",
            "38/38 [==============================] - 1s 29ms/step - loss: 0.0023\n",
            "Epoch 76/100\n",
            "38/38 [==============================] - 1s 29ms/step - loss: 0.0026\n",
            "Epoch 77/100\n",
            "38/38 [==============================] - 1s 29ms/step - loss: 0.0024\n",
            "Epoch 78/100\n",
            "38/38 [==============================] - 1s 28ms/step - loss: 0.0020\n",
            "Epoch 79/100\n",
            "38/38 [==============================] - 1s 29ms/step - loss: 0.0021\n",
            "Epoch 80/100\n",
            "38/38 [==============================] - 1s 28ms/step - loss: 0.0020\n",
            "Epoch 81/100\n",
            "38/38 [==============================] - 1s 29ms/step - loss: 0.0021\n",
            "Epoch 82/100\n",
            "38/38 [==============================] - 1s 29ms/step - loss: 0.0023\n",
            "Epoch 83/100\n",
            "38/38 [==============================] - 1s 29ms/step - loss: 0.0022\n",
            "Epoch 84/100\n",
            "38/38 [==============================] - 1s 29ms/step - loss: 0.0023\n",
            "Epoch 85/100\n",
            "38/38 [==============================] - 1s 29ms/step - loss: 0.0019\n",
            "Epoch 86/100\n",
            "38/38 [==============================] - 1s 29ms/step - loss: 0.0019\n",
            "Epoch 87/100\n",
            "38/38 [==============================] - 1s 29ms/step - loss: 0.0019\n",
            "Epoch 88/100\n",
            "38/38 [==============================] - 1s 29ms/step - loss: 0.0019\n",
            "Epoch 89/100\n",
            "38/38 [==============================] - 1s 28ms/step - loss: 0.0022\n",
            "Epoch 90/100\n",
            "38/38 [==============================] - 1s 29ms/step - loss: 0.0019\n",
            "Epoch 91/100\n",
            "38/38 [==============================] - 1s 29ms/step - loss: 0.0019\n",
            "Epoch 92/100\n",
            "38/38 [==============================] - 1s 28ms/step - loss: 0.0021\n",
            "Epoch 93/100\n",
            "38/38 [==============================] - 1s 29ms/step - loss: 0.0019\n",
            "Epoch 94/100\n",
            "38/38 [==============================] - 1s 29ms/step - loss: 0.0017\n",
            "Epoch 95/100\n",
            "38/38 [==============================] - 1s 29ms/step - loss: 0.0020\n",
            "Epoch 96/100\n",
            "38/38 [==============================] - 1s 29ms/step - loss: 0.0020\n",
            "Epoch 97/100\n",
            "38/38 [==============================] - 1s 29ms/step - loss: 0.0021\n",
            "Epoch 98/100\n",
            "38/38 [==============================] - 1s 28ms/step - loss: 0.0021\n",
            "Epoch 99/100\n",
            "38/38 [==============================] - 1s 29ms/step - loss: 0.0018\n",
            "Epoch 100/100\n",
            "38/38 [==============================] - 1s 29ms/step - loss: 0.0022\n"
          ]
        },
        {
          "output_type": "execute_result",
          "data": {
            "text/plain": [
              "<keras.callbacks.History at 0x7f4201b77cd0>"
            ]
          },
          "metadata": {},
          "execution_count": 16
        }
      ],
      "source": [
        "regressor = Sequential()\n",
        "regressor.add(SimpleRNN(units = 50, activation = \"tanh\", return_sequences = True, input_shape = (X_train.shape[1], 1)))\n",
        "regressor.add(Dropout(0.2))\n",
        "regressor.add(SimpleRNN(units = 50, activation = \"tanh\", return_sequences = True))\n",
        "regressor.add(Dropout(0.2))\n",
        "regressor.add(SimpleRNN(units = 50, activation = \"tanh\", return_sequences = True))\n",
        "regressor.add(Dropout(0.2))\n",
        "regressor.add(SimpleRNN(units = 50))\n",
        "regressor.add(Dropout(0.2))\n",
        "regressor.add(Dense(units = 1))\n",
        "regressor.compile(optimizer = \"adam\", loss = \"mean_squared_error\")\n",
        "regressor.fit(X_train, Y_train, epochs = 100, batch_size = 32)"
      ]
    },
    {
      "cell_type": "code",
      "source": [
        "test_input = data_set[-50:]\n",
        "test_set = np.concatenate((test_input, test_data), axis = 0)\n",
        "test_set.shape"
      ],
      "metadata": {
        "id": "WCPkQ0A3ZnwH",
        "colab": {
          "base_uri": "https://localhost:8080/"
        },
        "outputId": "0bc12cb8-6a8d-4a05-efcc-b67672003554"
      },
      "execution_count": 17,
      "outputs": [
        {
          "output_type": "execute_result",
          "data": {
            "text/plain": [
              "(70, 1)"
            ]
          },
          "metadata": {},
          "execution_count": 17
        }
      ],
      "id": "WCPkQ0A3ZnwH"
    },
    {
      "cell_type": "code",
      "execution_count": 18,
      "id": "05cb8ab5",
      "metadata": {
        "execution": {
          "iopub.execute_input": "2022-09-08T14:55:30.284097Z",
          "iopub.status.busy": "2022-09-08T14:55:30.282811Z",
          "iopub.status.idle": "2022-09-08T14:55:30.288596Z",
          "shell.execute_reply": "2022-09-08T14:55:30.287308Z"
        },
        "papermill": {
          "duration": 0.283901,
          "end_time": "2022-09-08T14:55:30.290538",
          "exception": false,
          "start_time": "2022-09-08T14:55:30.006637",
          "status": "completed"
        },
        "tags": [],
        "id": "05cb8ab5"
      },
      "outputs": [],
      "source": [
        "inputs = test_set\n",
        "inputs = scaler.transform(inputs)"
      ]
    },
    {
      "cell_type": "code",
      "source": [
        "inputs.shape"
      ],
      "metadata": {
        "colab": {
          "base_uri": "https://localhost:8080/"
        },
        "id": "jDX-6OPehHHb",
        "outputId": "ac47f2b3-faa3-4bf0-d15d-6ef379e279fc"
      },
      "id": "jDX-6OPehHHb",
      "execution_count": 19,
      "outputs": [
        {
          "output_type": "execute_result",
          "data": {
            "text/plain": [
              "(70, 1)"
            ]
          },
          "metadata": {},
          "execution_count": 19
        }
      ]
    },
    {
      "cell_type": "code",
      "execution_count": 20,
      "id": "e804db45",
      "metadata": {
        "execution": {
          "iopub.execute_input": "2022-09-08T14:55:30.677320Z",
          "iopub.status.busy": "2022-09-08T14:55:30.676568Z",
          "iopub.status.idle": "2022-09-08T14:55:31.234012Z",
          "shell.execute_reply": "2022-09-08T14:55:31.232715Z"
        },
        "papermill": {
          "duration": 0.748737,
          "end_time": "2022-09-08T14:55:31.236668",
          "exception": false,
          "start_time": "2022-09-08T14:55:30.487931",
          "status": "completed"
        },
        "tags": [],
        "id": "e804db45"
      },
      "outputs": [],
      "source": [
        "X_test = []\n",
        "Y_test = []\n",
        "for i in range(timesteps, inputs.shape[0]):\n",
        "    X_test.append(inputs[i - timesteps:i, 0])\n",
        "    Y_test.append(inputs[i,0])\n",
        "    \n",
        "X_test_rnn = np.array(X_test)\n",
        "X_test_rnn = np.reshape(X_test_rnn, (X_test_rnn.shape[0], X_test_rnn.shape[1], 1))\n",
        "predicted_stock_price = regressor.predict(X_test_rnn)\n",
        "predicted_stock_price = scaler.inverse_transform(predicted_stock_price)"
      ]
    },
    {
      "cell_type": "code",
      "execution_count": 21,
      "id": "4e4ac081",
      "metadata": {
        "execution": {
          "iopub.execute_input": "2022-09-08T14:55:32.046133Z",
          "iopub.status.busy": "2022-09-08T14:55:32.045831Z",
          "iopub.status.idle": "2022-09-08T14:55:32.210265Z",
          "shell.execute_reply": "2022-09-08T14:55:32.209253Z"
        },
        "papermill": {
          "duration": 0.36938,
          "end_time": "2022-09-08T14:55:32.212064",
          "exception": false,
          "start_time": "2022-09-08T14:55:31.842684",
          "status": "completed"
        },
        "tags": [],
        "id": "4e4ac081",
        "colab": {
          "base_uri": "https://localhost:8080/",
          "height": 295
        },
        "outputId": "4ec7a7f9-029f-4915-88f3-f0453a25cca1"
      },
      "outputs": [
        {
          "output_type": "display_data",
          "data": {
            "text/plain": [
              "<Figure size 432x288 with 1 Axes>"
            ],
            "image/png": "[encoded data removed]"
          },
          "metadata": {
            "needs_background": "light"
          }
        }
      ],
      "source": [
        "plt.plot(test_data, color = \"red\", label = \"Real Google Stock Price\")\n",
        "plt.plot(predicted_stock_price, color = \"blue\", label = \"Predicted Google Stock Price\")\n",
        "plt.title(\"Google Stock Price Prediction (2017)\")\n",
        "plt.xlabel(\"Time\")\n",
        "plt.ylabel(\"Google Stock Price\")\n",
        "plt.legend()\n",
        "plt.show()"
      ]
    },
    {
      "cell_type": "markdown",
      "source": [
        "### LSTM"
      ],
      "metadata": {
        "id": "8vIlrx9RMh8h"
      },
      "id": "8vIlrx9RMh8h"
    },
    {
      "cell_type": "code",
      "execution_count": 22,
      "id": "95c40635",
      "metadata": {
        "execution": {
          "iopub.execute_input": "2022-09-08T14:55:33.879434Z",
          "iopub.status.busy": "2022-09-08T14:55:33.878849Z",
          "iopub.status.idle": "2022-09-08T14:55:33.883626Z",
          "shell.execute_reply": "2022-09-08T14:55:33.882618Z"
        },
        "papermill": {
          "duration": 0.212925,
          "end_time": "2022-09-08T14:55:33.885731",
          "exception": false,
          "start_time": "2022-09-08T14:55:33.672806",
          "status": "completed"
        },
        "tags": [],
        "id": "95c40635"
      },
      "outputs": [],
      "source": [
        "trainX = np.reshape(X_train, (X_train.shape[0], 1, X_train.shape[1]))"
      ]
    },
    {
      "cell_type": "code",
      "execution_count": 23,
      "metadata": {
        "execution": {
          "iopub.execute_input": "2022-09-08T14:55:35.206933Z",
          "iopub.status.busy": "2022-09-08T14:55:35.206457Z",
          "iopub.status.idle": "2022-09-08T14:57:12.620382Z",
          "shell.execute_reply": "2022-09-08T14:57:12.619631Z"
        },
        "papermill": {
          "duration": 97.61859,
          "end_time": "2022-09-08T14:57:12.621971",
          "exception": false,
          "start_time": "2022-09-08T14:55:35.003381",
          "status": "completed"
        },
        "tags": [],
        "id": "606685ac",
        "colab": {
          "base_uri": "https://localhost:8080/"
        },
        "outputId": "a41bc3e4-5c70-448a-9f84-b8d59126f17c"
      },
      "outputs": [
        {
          "output_type": "stream",
          "name": "stdout",
          "text": [
            "Epoch 1/50\n",
            "1208/1208 [==============================] - 10s 5ms/step - loss: 0.0091\n",
            "Epoch 2/50\n",
            "1208/1208 [==============================] - 7s 6ms/step - loss: 0.0023\n",
            "Epoch 3/50\n",
            "1208/1208 [==============================] - 6s 5ms/step - loss: 0.0016\n",
            "Epoch 4/50\n",
            "1208/1208 [==============================] - 4s 3ms/step - loss: 0.0014\n",
            "Epoch 5/50\n",
            "1208/1208 [==============================] - 4s 3ms/step - loss: 0.0015\n",
            "Epoch 6/50\n",
            "1208/1208 [==============================] - 4s 3ms/step - loss: 0.0012\n",
            "Epoch 7/50\n",
            "1208/1208 [==============================] - 4s 3ms/step - loss: 0.0011\n",
            "Epoch 8/50\n",
            "1208/1208 [==============================] - 4s 3ms/step - loss: 0.0011\n",
            "Epoch 9/50\n",
            "1208/1208 [==============================] - 4s 3ms/step - loss: 0.0012\n",
            "Epoch 10/50\n",
            "1208/1208 [==============================] - 4s 3ms/step - loss: 0.0010\n",
            "Epoch 11/50\n",
            "1208/1208 [==============================] - 4s 3ms/step - loss: 0.0011\n",
            "Epoch 12/50\n",
            "1208/1208 [==============================] - 4s 3ms/step - loss: 0.0011\n",
            "Epoch 13/50\n",
            "1208/1208 [==============================] - 4s 3ms/step - loss: 0.0010\n",
            "Epoch 14/50\n",
            "1208/1208 [==============================] - 4s 3ms/step - loss: 9.3405e-04\n",
            "Epoch 15/50\n",
            "1208/1208 [==============================] - 4s 3ms/step - loss: 9.2378e-04\n",
            "Epoch 16/50\n",
            "1208/1208 [==============================] - 4s 3ms/step - loss: 9.1564e-04\n",
            "Epoch 17/50\n",
            "1208/1208 [==============================] - 4s 3ms/step - loss: 7.7876e-04\n",
            "Epoch 18/50\n",
            "1208/1208 [==============================] - 4s 3ms/step - loss: 7.8891e-04\n",
            "Epoch 19/50\n",
            "1208/1208 [==============================] - 4s 3ms/step - loss: 7.4267e-04\n",
            "Epoch 20/50\n",
            "1208/1208 [==============================] - 4s 3ms/step - loss: 0.0011\n",
            "Epoch 21/50\n",
            "1208/1208 [==============================] - 4s 4ms/step - loss: 9.9453e-04\n",
            "Epoch 22/50\n",
            "1208/1208 [==============================] - 4s 3ms/step - loss: 8.5698e-04\n",
            "Epoch 23/50\n",
            "1208/1208 [==============================] - 4s 3ms/step - loss: 6.4540e-04\n",
            "Epoch 24/50\n",
            "1208/1208 [==============================] - 4s 3ms/step - loss: 8.8550e-04\n",
            "Epoch 25/50\n",
            "1208/1208 [==============================] - 4s 3ms/step - loss: 7.6589e-04\n",
            "Epoch 26/50\n",
            "1208/1208 [==============================] - 4s 3ms/step - loss: 7.2235e-04\n",
            "Epoch 27/50\n",
            "1208/1208 [==============================] - 4s 3ms/step - loss: 7.5068e-04\n",
            "Epoch 28/50\n",
            "1208/1208 [==============================] - 4s 3ms/step - loss: 6.9200e-04\n",
            "Epoch 29/50\n",
            "1208/1208 [==============================] - 4s 3ms/step - loss: 7.5577e-04\n",
            "Epoch 30/50\n",
            "1208/1208 [==============================] - 4s 3ms/step - loss: 6.7744e-04\n",
            "Epoch 31/50\n",
            "1208/1208 [==============================] - 4s 3ms/step - loss: 8.4379e-04\n",
            "Epoch 32/50\n",
            "1208/1208 [==============================] - 4s 3ms/step - loss: 7.3735e-04\n",
            "Epoch 33/50\n",
            "1208/1208 [==============================] - 4s 3ms/step - loss: 6.7539e-04\n",
            "Epoch 34/50\n",
            "1208/1208 [==============================] - 4s 3ms/step - loss: 7.9396e-04\n",
            "Epoch 35/50\n",
            "1208/1208 [==============================] - 4s 3ms/step - loss: 7.3095e-04\n",
            "Epoch 36/50\n",
            "1208/1208 [==============================] - 4s 3ms/step - loss: 6.4170e-04\n",
            "Epoch 37/50\n",
            "1208/1208 [==============================] - 4s 3ms/step - loss: 7.0676e-04\n",
            "Epoch 38/50\n",
            "1208/1208 [==============================] - 4s 3ms/step - loss: 6.4116e-04\n",
            "Epoch 39/50\n",
            "1208/1208 [==============================] - 4s 3ms/step - loss: 6.2273e-04\n",
            "Epoch 40/50\n",
            "1208/1208 [==============================] - 4s 3ms/step - loss: 5.7209e-04\n",
            "Epoch 41/50\n",
            "1208/1208 [==============================] - 4s 3ms/step - loss: 6.0511e-04\n",
            "Epoch 42/50\n",
            "1208/1208 [==============================] - 4s 3ms/step - loss: 6.4427e-04\n",
            "Epoch 43/50\n",
            "1208/1208 [==============================] - 4s 3ms/step - loss: 6.2586e-04\n",
            "Epoch 44/50\n",
            "1208/1208 [==============================] - 4s 3ms/step - loss: 6.9749e-04\n",
            "Epoch 45/50\n",
            "1208/1208 [==============================] - 4s 3ms/step - loss: 6.2199e-04\n",
            "Epoch 46/50\n",
            "1208/1208 [==============================] - 4s 3ms/step - loss: 5.5230e-04\n",
            "Epoch 47/50\n",
            "1208/1208 [==============================] - 4s 3ms/step - loss: 6.5069e-04\n",
            "Epoch 48/50\n",
            "1208/1208 [==============================] - 4s 3ms/step - loss: 6.6864e-04\n",
            "Epoch 49/50\n",
            "1208/1208 [==============================] - 4s 3ms/step - loss: 5.5751e-04\n",
            "Epoch 50/50\n",
            "1208/1208 [==============================] - 4s 3ms/step - loss: 7.2002e-04\n"
          ]
        },
        {
          "output_type": "execute_result",
          "data": {
            "text/plain": [
              "<keras.callbacks.History at 0x7f41feb0f510>"
            ]
          },
          "metadata": {},
          "execution_count": 23
        }
      ],
      "source": [
        "model = Sequential()\n",
        "model.add(LSTM(timesteps, return_sequences=True, input_shape = (1, timesteps)))\n",
        "model.add(LSTM(timesteps, return_sequences=True))\n",
        "model.add(LSTM(timesteps, return_sequences=True))\n",
        "model.add(LSTM(timesteps))\n",
        "model.add(Dense(1))\n",
        "model.compile(loss = \"mean_squared_error\", optimizer = \"adam\")\n",
        "model.fit(trainX, Y_train, epochs = 50, batch_size = 1)"
      ],
      "id": "606685ac"
    },
    {
      "cell_type": "code",
      "execution_count": 24,
      "id": "0a5e72d4",
      "metadata": {
        "execution": {
          "iopub.execute_input": "2022-09-08T14:57:13.890227Z",
          "iopub.status.busy": "2022-09-08T14:57:13.889870Z",
          "iopub.status.idle": "2022-09-08T14:57:14.237598Z",
          "shell.execute_reply": "2022-09-08T14:57:14.236396Z"
        },
        "papermill": {
          "duration": 0.703389,
          "end_time": "2022-09-08T14:57:14.239983",
          "exception": false,
          "start_time": "2022-09-08T14:57:13.536594",
          "status": "completed"
        },
        "tags": [],
        "id": "0a5e72d4"
      },
      "outputs": [],
      "source": [
        "testX = np.array(X_test)\n",
        "testX = testX.reshape(testX.shape[0], 1, testX.shape[1])\n",
        "predict_lstm = model.predict(testX)\n",
        "predict_lstm = scaler.inverse_transform(predict_lstm)"
      ]
    },
    {
      "cell_type": "code",
      "execution_count": 25,
      "metadata": {
        "execution": {
          "iopub.execute_input": "2022-09-08T14:57:15.505891Z",
          "iopub.status.busy": "2022-09-08T14:57:15.505354Z",
          "iopub.status.idle": "2022-09-08T14:57:15.664587Z",
          "shell.execute_reply": "2022-09-08T14:57:15.663244Z"
        },
        "papermill": {
          "duration": 0.513471,
          "end_time": "2022-09-08T14:57:15.666719",
          "exception": false,
          "start_time": "2022-09-08T14:57:15.153248",
          "status": "completed"
        },
        "tags": [],
        "id": "97c123ff",
        "colab": {
          "base_uri": "https://localhost:8080/",
          "height": 295
        },
        "outputId": "c1d1e57e-237a-4206-f406-16fbac9cfa66"
      },
      "outputs": [
        {
          "output_type": "display_data",
          "data": {
            "text/plain": [
              "<Figure size 432x288 with 1 Axes>"
            ],
            "image/png": "[encoded data removed]"
          },
          "metadata": {
            "needs_background": "light"
          }
        }
      ],
      "source": [
        "plt.plot(test_data, color = \"red\", label = \"Real Google Stock Price\")\n",
        "plt.plot(predict_lstm, color = \"blue\", label = \"Predicted Google Stock Price\")\n",
        "plt.title(\"Google Stock Price Prediction(2017)\")\n",
        "plt.xlabel(\"Time\")\n",
        "plt.ylabel(\"Google Stock Price\")\n",
        "plt.legend()\n",
        "plt.show()"
      ],
      "id": "97c123ff"
    }
  ],
  "metadata": {
    "kernelspec": {
      "display_name": "Python 3",
      "language": "python",
      "name": "python3"
    },
    "language_info": {
      "codemirror_mode": {
        "name": "ipython",
        "version": 3
      },
      "file_extension": ".py",
      "mimetype": "text/x-python",
      "name": "python",
      "nbconvert_exporter": "python",
      "pygments_lexer": "ipython3",
      "version": "3.7.12"
    },
    "papermill": {
      "default_parameters": {},
      "duration": 571.368981,
      "end_time": "2022-09-08T14:57:19.481461",
      "environment_variables": {},
      "exception": null,
      "input_path": "__notebook__.ipynb",
      "output_path": "__notebook__.ipynb",
      "parameters": {},
      "start_time": "2022-09-08T14:47:48.112480",
      "version": "2.3.4"
    },
    "colab": {
      "provenance": [],
      "collapsed_sections": []
    }
  },
  "nbformat": 4,
  "nbformat_minor": 5
}